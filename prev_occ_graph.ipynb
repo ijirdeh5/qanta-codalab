{
 "cells": [
  {
   "cell_type": "code",
   "execution_count": 6,
   "metadata": {},
   "outputs": [],
   "source": [
    "import pickle\n",
    "from plotnine import *\n",
    "import pandas as pd\n",
    "from collections import Counter"
   ]
  },
  {
   "cell_type": "code",
   "execution_count": 2,
   "metadata": {},
   "outputs": [],
   "source": [
    "with open('data/previous_answers.pickle', 'rb') as f:\n",
    "    counts = pickle.load(f)"
   ]
  },
  {
   "cell_type": "code",
   "execution_count": 4,
   "metadata": {},
   "outputs": [],
   "source": [
    "x = pd.Series([counts[k] for k in counts.keys()])\n",
    "df = pd.DataFrame({'occurances': x})"
   ]
  },
  {
   "cell_type": "code",
   "execution_count": 9,
   "metadata": {},
   "outputs": [
    {
     "data": {
      "text/plain": [
       "Counter({3: 2373,\n",
       "         1: 62246,\n",
       "         13: 87,\n",
       "         8: 250,\n",
       "         20: 23,\n",
       "         12: 91,\n",
       "         2: 7001,\n",
       "         9: 176,\n",
       "         22: 17,\n",
       "         10: 173,\n",
       "         6: 497,\n",
       "         16: 40,\n",
       "         17: 30,\n",
       "         7: 372,\n",
       "         15: 48,\n",
       "         25: 5,\n",
       "         5: 721,\n",
       "         4: 1227,\n",
       "         19: 26,\n",
       "         11: 140,\n",
       "         14: 54,\n",
       "         26: 12,\n",
       "         24: 9,\n",
       "         18: 25,\n",
       "         21: 11,\n",
       "         33: 2,\n",
       "         57: 1,\n",
       "         37: 1,\n",
       "         30: 2,\n",
       "         28: 4,\n",
       "         23: 8,\n",
       "         31: 2,\n",
       "         27: 5,\n",
       "         36: 4,\n",
       "         29: 3,\n",
       "         35: 1,\n",
       "         34: 1,\n",
       "         40: 1,\n",
       "         43: 1})"
      ]
     },
     "execution_count": 9,
     "metadata": {},
     "output_type": "execute_result"
    }
   ],
   "source": [
    "Counter(x)"
   ]
  },
  {
   "cell_type": "code",
   "execution_count": 5,
   "metadata": {},
   "outputs": [
    {
     "name": "stderr",
     "output_type": "stream",
     "text": [
      "/home/george/inst/anaconda3/lib/python3.6/site-packages/plotnine/stats/stat_bin.py:95: UserWarning: 'stat_bin()' using 'bins = 276'. Pick better value with 'binwidth'.\n",
      "  warn(msg.format(params['bins']))\n"
     ]
    },
    {
     "data": {
      "image/png": "[encoded data removed]",
      "text/plain": [
       "<Figure size 640x480 with 1 Axes>"
      ]
     },
     "metadata": {},
     "output_type": "display_data"
    },
    {
     "data": {
      "text/plain": [
       "<ggplot: (8792508763947)>"
      ]
     },
     "execution_count": 5,
     "metadata": {},
     "output_type": "execute_result"
    }
   ],
   "source": [
    "(\n",
    "    ggplot(df, aes('occurances'))\n",
    "    + geom_histogram()\n",
    ")"
   ]
  },
  {
   "cell_type": "code",
   "execution_count": null,
   "metadata": {},
   "outputs": [],
   "source": []
  }
 ],
 "metadata": {
  "kernelspec": {
   "display_name": "Python 3",
   "language": "python",
   "name": "python3"
  },
  "language_info": {
   "codemirror_mode": {
    "name": "ipython",
    "version": 3
   },
   "file_extension": ".py",
   "mimetype": "text/x-python",
   "name": "python",
   "nbconvert_exporter": "python",
   "pygments_lexer": "ipython3",
   "version": "3.6.5"
  }
 },
 "nbformat": 4,
 "nbformat_minor": 2
}
